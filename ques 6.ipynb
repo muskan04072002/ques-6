{
 "cells": [
  {
   "cell_type": "code",
   "execution_count": 1,
   "id": "995ed405",
   "metadata": {},
   "outputs": [
    {
     "name": "stdout",
     "output_type": "stream",
     "text": [
      "Length of the Longest contiguous subsequence is 4\n"
     ]
    }
   ],
   "source": [
    "#Given an array of integers, find the length of the longest sub-sequence\n",
    "#such that elements in the subsequence are consecutive integers, the consecutive numbers can be in any order. \n",
    "\n",
    "def findLongestConseqSubseq(arr, n):\n",
    " \n",
    "    ans = 0\n",
    "    count = 0\n",
    " \n",
    "    # Sort the array\n",
    "    arr.sort()\n",
    " \n",
    "    v = []\n",
    " \n",
    "    v.append(arr[0])\n",
    " \n",
    "    # Insert repeated elements only\n",
    "    # once in the vector\n",
    "    for i in range(1, n):\n",
    "        if (arr[i] != arr[i - 1]):\n",
    "            v.append(arr[i])\n",
    " \n",
    "    # Find the maximum length\n",
    "    # by traversing the array\n",
    "    for i in range(len(v)):\n",
    " \n",
    "        # Check if the current element is\n",
    "        # equal to previous element +1\n",
    "        if (i > 0 and v[i] == v[i - 1] + 1):\n",
    "            count += 1\n",
    " \n",
    "        # Reset the count\n",
    "        else:\n",
    "            count = 1\n",
    " \n",
    "        # Update the maximum\n",
    "        ans = max(ans, count)\n",
    " \n",
    "    return ans\n",
    " \n",
    " \n",
    "# Driver code\n",
    "arr = [1, 9, 3, 10, 4, 20, 2]\n",
    "n = len(arr)\n",
    " \n",
    "print(\"Length of the Longest contiguous subsequence is\",\n",
    "      findLongestConseqSubseq(arr, n))"
   ]
  },
  {
   "cell_type": "code",
   "execution_count": null,
   "id": "9b33cbbe",
   "metadata": {},
   "outputs": [],
   "source": []
  }
 ],
 "metadata": {
  "kernelspec": {
   "display_name": "Python 3 (ipykernel)",
   "language": "python",
   "name": "python3"
  },
  "language_info": {
   "codemirror_mode": {
    "name": "ipython",
    "version": 3
   },
   "file_extension": ".py",
   "mimetype": "text/x-python",
   "name": "python",
   "nbconvert_exporter": "python",
   "pygments_lexer": "ipython3",
   "version": "3.9.12"
  }
 },
 "nbformat": 4,
 "nbformat_minor": 5
}
